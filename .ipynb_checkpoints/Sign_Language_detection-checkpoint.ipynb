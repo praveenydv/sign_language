{
 "cells": [
  {
   "cell_type": "code",
   "execution_count": 19,
   "metadata": {},
   "outputs": [],
   "source": [
    "import cv2\n",
    "import argparse\n",
    "from src.hand_tracker import HandTracker\n",
    "import numpy as np\n",
    "import matplotlib.pyplot as plt\n",
    "import tensorflow as tf\n",
    "from utils import image_prepare"
   ]
  },
  {
   "cell_type": "code",
   "execution_count": 20,
   "metadata": {},
   "outputs": [],
   "source": [
    "FRAME_WNDW = \"Hand Tracking\"\n",
    "HAND_WNDW=\"Image\"\n",
    "PALM_MODEL_PATH = \"./models/palm_detection_without_custom_op.tflite\"\n",
    "LANDMARK_MODEL_PATH = \"./models/hand_landmark.tflite\"\n",
    "ANCHORS_PATH = \"./models/anchors.csv\"\n",
    "SIGN_LANG_DETECTION_MODEL_PATH=\"./models/models/sign_lang_model_input_75*75.h5\""
   ]
  },
  {
   "cell_type": "code",
   "execution_count": 21,
   "metadata": {},
   "outputs": [],
   "source": [
    "model =tf.keras.models.load_model(SIGN_LANG_DETECTION_MODEL_PATH)\n",
    "letter_labels = image_prepare.load_letter_labels()"
   ]
  },
  {
   "cell_type": "code",
   "execution_count": 22,
   "metadata": {},
   "outputs": [],
   "source": [
    "def predict(frame,model,letter_labels):\n",
    "    frame = cv2.flip(frame, 1)\n",
    "    binary_hand= image_prepare.change_RGBImage_toBinary(frame)   \n",
    "    plt.imshow(binary_hand)\n",
    "    plt.show()\n",
    "    return image_prepare.predict(binary_hand,model,letter_labels)"
   ]
  },
  {
   "cell_type": "code",
   "execution_count": 23,
   "metadata": {},
   "outputs": [],
   "source": [
    "cv2.namedWindow('FRAME_WNDW',cv2.WINDOW_NORMAL)\n",
    "# cv2.namedWindow('HAND_WNDW',cv2.WINDOW_NORMAL)\n",
    "cv2.resizeWindow('FRAME_WNDW', 1000, 1000) \n",
    "# cv2.resizeWindow('HAND_WNDW', 500, 500) \n"
   ]
  },
  {
   "cell_type": "code",
   "execution_count": 24,
   "metadata": {},
   "outputs": [],
   "source": [
    "hand_3d = \"False\"\n",
    "POINT_COLOR = (0, 255, 0)\n",
    "CONNECTION_COLOR = (255, 0, 0)\n",
    "THICKNESS = 2\n",
    "\n",
    "#        8   12  16  20\n",
    "#        |   |   |   |\n",
    "#        7   11  15  19\n",
    "#    4   |   |   |   |\n",
    "#    |   6   10  14  18\n",
    "#    3   |   |   |   |\n",
    "#    |   5---9---13--17\n",
    "#    2    \\         /\n",
    "#     \\    \\       /\n",
    "#      1    \\     /\n",
    "#       \\    \\   /\n",
    "#        ------0-\n",
    "connections = [\n",
    "    (0, 1), (1, 2), (2, 3), (3, 4),\n",
    "    (5, 6), (6, 7), (7, 8),\n",
    "    (9, 10), (10, 11), (11, 12),\n",
    "    (13, 14), (14, 15), (15, 16),\n",
    "    (17, 18), (18, 19), (19, 20),\n",
    "    (0, 5), (5, 9), (9, 13), (13, 17), (0, 17)\n",
    "]\n",
    "\n"
   ]
  },
  {
   "cell_type": "code",
   "execution_count": 25,
   "metadata": {},
   "outputs": [],
   "source": [
    "\n",
    "detector = HandTracker(\n",
    "    hand_3d,\n",
    "    PALM_MODEL_PATH,\n",
    "    LANDMARK_MODEL_PATH,\n",
    "    ANCHORS_PATH,\n",
    "    box_shift=0.1,\n",
    "    box_enlarge=.75\n",
    ")\n"
   ]
  },
  {
   "cell_type": "code",
   "execution_count": null,
   "metadata": {},
   "outputs": [
    {
     "name": "stderr",
     "output_type": "stream",
     "text": [
      "/home/praveen/ml/sign_language/src/hand_tracker.py:103: RuntimeWarning: overflow encountered in exp\n",
      "  return 1 / (1 + np.exp(-x) )\n"
     ]
    },
    {
     "name": "stdout",
     "output_type": "stream",
     "text": [
      "No hands found\n",
      "No hands found\n",
      "No hands found\n",
      "No hands found\n",
      "No hands found\n",
      "No hands found\n",
      "No hands found\n",
      "No hands found\n",
      "No hands found\n",
      "No hands found\n",
      "No hands found\n",
      "No hands found\n",
      "No hands found\n",
      "No hands found\n",
      "No hands found\n",
      "No hands found\n",
      "No hands found\n",
      "No hands found\n",
      "No hands found\n",
      "No hands found\n",
      "No hands found\n",
      "No hands found\n",
      "No hands found\n",
      "No hands found\n",
      "No hands found\n",
      "No hands found\n",
      "No hands found\n",
      "No hands found\n",
      "No hands found\n",
      "No hands found\n",
      "No hands found\n",
      "No hands found\n",
      "No hands found\n",
      "No hands found\n",
      "No hands found\n",
      "No hands found\n",
      "No hands found\n",
      "No hands found\n",
      "No hands found\n",
      "No hands found\n",
      "No hands found\n",
      "No hands found\n",
      "No hands found\n",
      "No hands found\n",
      "No hands found\n",
      "No hands found\n",
      "No hands found\n",
      "No hands found\n",
      "No hands found\n",
      "No hands found\n",
      "No hands found\n",
      "No hands found\n",
      "No hands found\n",
      "No hands found\n",
      "No hands found\n",
      "No hands found\n",
      "No hands found\n",
      "No hands found\n",
      "No hands found\n",
      "No hands found\n",
      "No hands found\n",
      "No hands found\n",
      "No hands found\n",
      "No hands found\n",
      "No hands found\n",
      "No hands found\n",
      "No hands found\n",
      "No hands found\n",
      "No hands found\n",
      "No hands found\n",
      "No hands found\n",
      "No hands found\n",
      "No hands found\n",
      "No hands found\n",
      "No hands found\n",
      "No hands found\n",
      "No hands found\n",
      "No hands found\n",
      "No hands found\n"
     ]
    },
    {
     "data": {
      "image/png": "[encoded data removed]",
      "text/plain": [
       "<Figure size 432x288 with 1 Axes>"
      ]
     },
     "metadata": {},
     "output_type": "display_data"
    },
    {
     "name": "stdout",
     "output_type": "stream",
     "text": [
      "I\n",
      "No hands found\n"
     ]
    },
    {
     "data": {
      "image/png": "[encoded data removed]",
      "text/plain": [
       "<Figure size 432x288 with 1 Axes>"
      ]
     },
     "metadata": {},
     "output_type": "display_data"
    },
    {
     "name": "stdout",
     "output_type": "stream",
     "text": [
      "I\n",
      "No hands found\n"
     ]
    },
    {
     "data": {
      "image/png": "[encoded data removed]",
      "text/plain": [
       "<Figure size 432x288 with 1 Axes>"
      ]
     },
     "metadata": {},
     "output_type": "display_data"
    },
    {
     "name": "stdout",
     "output_type": "stream",
     "text": [
      "I\n"
     ]
    },
    {
     "data": {
      "image/png": "[encoded data removed]",
      "text/plain": [
       "<Figure size 432x288 with 1 Axes>"
      ]
     },
     "metadata": {},
     "output_type": "display_data"
    },
    {
     "name": "stdout",
     "output_type": "stream",
     "text": [
      "S\n",
      "No hands found\n",
      "No hands found\n",
      "No hands found\n"
     ]
    },
    {
     "data": {
      "image/png": "[encoded data removed]",
      "text/plain": [
       "<Figure size 432x288 with 1 Axes>"
      ]
     },
     "metadata": {},
     "output_type": "display_data"
    },
    {
     "name": "stdout",
     "output_type": "stream",
     "text": [
      "S\n",
      "No hands found\n",
      "No hands found\n",
      "No hands found\n"
     ]
    },
    {
     "data": {
      "image/png": "[encoded data removed]",
      "text/plain": [
       "<Figure size 432x288 with 1 Axes>"
      ]
     },
     "metadata": {},
     "output_type": "display_data"
    },
    {
     "name": "stdout",
     "output_type": "stream",
     "text": [
      "S\n",
      "No hands found\n",
      "No hands found\n",
      "No hands found\n",
      "No hands found\n",
      "No hands found\n",
      "No hands found\n",
      "No hands found\n"
     ]
    },
    {
     "data": {
      "image/png": "[encoded data removed]",
      "text/plain": [
       "<Figure size 432x288 with 1 Axes>"
      ]
     },
     "metadata": {},
     "output_type": "display_data"
    },
    {
     "name": "stdout",
     "output_type": "stream",
     "text": [
      "I\n"
     ]
    },
    {
     "data": {
      "image/png": "[encoded data removed]",
      "text/plain": [
       "<Figure size 432x288 with 1 Axes>"
      ]
     },
     "metadata": {},
     "output_type": "display_data"
    },
    {
     "name": "stdout",
     "output_type": "stream",
     "text": [
      "S\n",
      "No hands found\n"
     ]
    },
    {
     "data": {
      "image/png": "[encoded data removed]",
      "text/plain": [
       "<Figure size 432x288 with 1 Axes>"
      ]
     },
     "metadata": {},
     "output_type": "display_data"
    },
    {
     "name": "stdout",
     "output_type": "stream",
     "text": [
      "S\n",
      "No hands found\n"
     ]
    },
    {
     "data": {
      "image/png": "[encoded data removed]",
      "text/plain": [
       "<Figure size 432x288 with 1 Axes>"
      ]
     },
     "metadata": {},
     "output_type": "display_data"
    },
    {
     "name": "stdout",
     "output_type": "stream",
     "text": [
      "S\n",
      "No hands found\n",
      "No hands found\n",
      "No hands found\n",
      "No hands found\n"
     ]
    },
    {
     "data": {
      "image/png": "[encoded data removed]",
      "text/plain": [
       "<Figure size 432x288 with 1 Axes>"
      ]
     },
     "metadata": {},
     "output_type": "display_data"
    },
    {
     "name": "stdout",
     "output_type": "stream",
     "text": [
      "I\n",
      "No hands found\n",
      "No hands found\n",
      "No hands found\n",
      "No hands found\n",
      "No hands found\n",
      "No hands found\n",
      "No hands found\n",
      "No hands found\n",
      "No hands found\n"
     ]
    },
    {
     "data": {
      "image/png": "[encoded data removed]",
      "text/plain": [
       "<Figure size 432x288 with 1 Axes>"
      ]
     },
     "metadata": {},
     "output_type": "display_data"
    },
    {
     "name": "stdout",
     "output_type": "stream",
     "text": [
      "I\n",
      "No hands found\n",
      "No hands found\n",
      "No hands found\n",
      "No hands found\n",
      "No hands found\n",
      "No hands found\n",
      "No hands found\n",
      "No hands found\n",
      "No hands found\n",
      "No hands found\n",
      "No hands found\n",
      "No hands found\n",
      "No hands found\n",
      "No hands found\n",
      "No hands found\n"
     ]
    },
    {
     "data": {
      "image/png": "[encoded data removed]",
      "text/plain": [
       "<Figure size 432x288 with 1 Axes>"
      ]
     },
     "metadata": {},
     "output_type": "display_data"
    },
    {
     "name": "stdout",
     "output_type": "stream",
     "text": [
      "I\n",
      "No hands found\n",
      "No hands found\n",
      "No hands found\n",
      "No hands found\n",
      "No hands found\n",
      "No hands found\n",
      "No hands found\n",
      "No hands found\n",
      "No hands found\n",
      "No hands found\n",
      "No hands found\n",
      "No hands found\n",
      "No hands found\n"
     ]
    },
    {
     "data": {
      "image/png": "[encoded data removed]",
      "text/plain": [
       "<Figure size 432x288 with 1 Axes>"
      ]
     },
     "metadata": {},
     "output_type": "display_data"
    },
    {
     "name": "stdout",
     "output_type": "stream",
     "text": [
      "I\n",
      "No hands found\n",
      "No hands found\n",
      "No hands found\n",
      "No hands found\n",
      "No hands found\n",
      "No hands found\n",
      "No hands found\n",
      "No hands found\n",
      "No hands found\n",
      "No hands found\n",
      "No hands found\n",
      "No hands found\n",
      "No hands found\n",
      "No hands found\n",
      "No hands found\n",
      "No hands found\n",
      "No hands found\n",
      "No hands found\n",
      "No hands found\n"
     ]
    },
    {
     "data": {
      "image/png": "[encoded data removed]",
      "text/plain": [
       "<Figure size 432x288 with 1 Axes>"
      ]
     },
     "metadata": {},
     "output_type": "display_data"
    },
    {
     "name": "stdout",
     "output_type": "stream",
     "text": [
      "I\n",
      "No hands found\n",
      "No hands found\n",
      "No hands found\n"
     ]
    },
    {
     "data": {
      "image/png": "[encoded data removed]",
      "text/plain": [
       "<Figure size 432x288 with 1 Axes>"
      ]
     },
     "metadata": {},
     "output_type": "display_data"
    },
    {
     "name": "stdout",
     "output_type": "stream",
     "text": [
      "S\n",
      "No hands found\n",
      "No hands found\n",
      "No hands found\n",
      "No hands found\n",
      "No hands found\n",
      "No hands found\n",
      "No hands found\n",
      "No hands found\n",
      "No hands found\n",
      "No hands found\n",
      "No hands found\n",
      "No hands found\n",
      "No hands found\n",
      "No hands found\n",
      "No hands found\n",
      "No hands found\n",
      "No hands found\n",
      "No hands found\n",
      "No hands found\n",
      "No hands found\n",
      "No hands found\n",
      "No hands found\n",
      "No hands found\n",
      "No hands found\n"
     ]
    },
    {
     "data": {
      "image/png": "[encoded data removed]",
      "text/plain": [
       "<Figure size 432x288 with 1 Axes>"
      ]
     },
     "metadata": {},
     "output_type": "display_data"
    },
    {
     "name": "stdout",
     "output_type": "stream",
     "text": [
      "S\n",
      "No hands found\n",
      "No hands found\n",
      "No hands found\n",
      "No hands found\n",
      "No hands found\n",
      "No hands found\n",
      "No hands found\n",
      "No hands found\n",
      "No hands found\n",
      "No hands found\n",
      "No hands found\n",
      "No hands found\n",
      "No hands found\n",
      "No hands found\n",
      "No hands found\n",
      "No hands found\n",
      "No hands found\n",
      "No hands found\n",
      "No hands found\n",
      "No hands found\n",
      "No hands found\n",
      "No hands found\n",
      "No hands found\n",
      "No hands found\n",
      "No hands found\n",
      "No hands found\n",
      "No hands found\n",
      "No hands found\n",
      "No hands found\n",
      "No hands found\n",
      "No hands found\n",
      "No hands found\n",
      "No hands found\n",
      "No hands found\n",
      "No hands found\n",
      "No hands found\n",
      "No hands found\n",
      "No hands found\n",
      "No hands found\n",
      "No hands found\n",
      "No hands found\n",
      "No hands found\n",
      "No hands found\n",
      "No hands found\n",
      "No hands found\n",
      "No hands found\n",
      "No hands found\n",
      "No hands found\n",
      "No hands found\n",
      "No hands found\n",
      "No hands found\n",
      "No hands found\n",
      "No hands found\n",
      "No hands found\n",
      "No hands found\n",
      "No hands found\n",
      "No hands found\n",
      "No hands found\n",
      "No hands found\n",
      "No hands found\n",
      "No hands found\n",
      "No hands found\n",
      "No hands found\n",
      "No hands found\n",
      "No hands found\n",
      "No hands found\n",
      "No hands found\n",
      "No hands found\n",
      "No hands found\n",
      "No hands found\n",
      "No hands found\n",
      "No hands found\n",
      "No hands found\n",
      "No hands found\n",
      "No hands found\n",
      "No hands found\n",
      "No hands found\n",
      "No hands found\n",
      "No hands found\n",
      "No hands found\n",
      "No hands found\n",
      "No hands found\n",
      "No hands found\n",
      "No hands found\n",
      "No hands found\n",
      "No hands found\n",
      "No hands found\n",
      "No hands found\n",
      "No hands found\n",
      "No hands found\n",
      "No hands found\n",
      "No hands found\n",
      "No hands found\n",
      "No hands found\n",
      "No hands found\n",
      "No hands found\n",
      "No hands found\n",
      "No hands found\n",
      "No hands found\n",
      "No hands found\n",
      "No hands found\n",
      "No hands found\n",
      "No hands found\n",
      "No hands found\n",
      "No hands found\n",
      "No hands found\n",
      "No hands found\n",
      "No hands found\n",
      "No hands found\n",
      "No hands found\n",
      "No hands found\n",
      "No hands found\n",
      "No hands found\n",
      "No hands found\n",
      "No hands found\n",
      "No hands found\n",
      "No hands found\n",
      "No hands found\n",
      "No hands found\n",
      "No hands found\n",
      "No hands found\n",
      "No hands found\n",
      "No hands found\n",
      "No hands found\n",
      "No hands found\n",
      "No hands found\n",
      "No hands found\n",
      "No hands found\n",
      "No hands found\n",
      "No hands found\n",
      "No hands found\n",
      "No hands found\n",
      "No hands found\n",
      "No hands found\n",
      "No hands found\n",
      "No hands found\n",
      "No hands found\n",
      "No hands found\n",
      "No hands found\n",
      "No hands found\n",
      "No hands found\n",
      "No hands found\n",
      "No hands found\n",
      "No hands found\n",
      "No hands found\n",
      "No hands found\n",
      "No hands found\n",
      "No hands found\n",
      "No hands found\n",
      "No hands found\n",
      "No hands found\n",
      "No hands found\n",
      "No hands found\n",
      "No hands found\n",
      "No hands found\n",
      "No hands found\n",
      "No hands found\n",
      "No hands found\n",
      "No hands found\n",
      "No hands found\n",
      "No hands found\n",
      "No hands found\n",
      "No hands found\n",
      "No hands found\n",
      "No hands found\n",
      "No hands found\n",
      "No hands found\n",
      "No hands found\n",
      "No hands found\n",
      "No hands found\n",
      "No hands found\n",
      "No hands found\n",
      "No hands found\n",
      "No hands found\n",
      "No hands found\n",
      "No hands found\n",
      "No hands found\n",
      "No hands found\n",
      "No hands found\n",
      "No hands found\n",
      "No hands found\n",
      "No hands found\n",
      "No hands found\n",
      "No hands found\n",
      "No hands found\n",
      "No hands found\n",
      "No hands found\n",
      "No hands found\n",
      "No hands found\n",
      "No hands found\n",
      "No hands found\n",
      "No hands found\n",
      "No hands found\n",
      "No hands found\n",
      "No hands found\n",
      "No hands found\n",
      "No hands found\n",
      "No hands found\n",
      "No hands found\n",
      "No hands found\n",
      "No hands found\n",
      "No hands found\n",
      "No hands found\n",
      "No hands found\n",
      "No hands found\n",
      "No hands found\n",
      "No hands found\n",
      "No hands found\n",
      "No hands found\n",
      "No hands found\n",
      "No hands found\n",
      "No hands found\n",
      "No hands found\n",
      "No hands found\n",
      "No hands found\n",
      "No hands found\n",
      "No hands found\n",
      "No hands found\n",
      "No hands found\n",
      "No hands found\n",
      "No hands found\n",
      "No hands found\n",
      "No hands found\n",
      "No hands found\n",
      "No hands found\n",
      "No hands found\n",
      "No hands found\n",
      "No hands found\n",
      "No hands found\n",
      "No hands found\n",
      "No hands found\n",
      "No hands found\n",
      "No hands found\n",
      "No hands found\n",
      "No hands found\n",
      "No hands found\n",
      "No hands found\n",
      "No hands found\n",
      "No hands found\n",
      "No hands found\n",
      "No hands found\n",
      "No hands found\n",
      "No hands found\n",
      "No hands found\n",
      "No hands found\n",
      "No hands found\n",
      "No hands found\n",
      "No hands found\n",
      "No hands found\n",
      "No hands found\n",
      "No hands found\n",
      "No hands found\n",
      "No hands found\n",
      "No hands found\n",
      "No hands found\n",
      "No hands found\n",
      "No hands found\n",
      "No hands found\n",
      "No hands found\n",
      "No hands found\n",
      "No hands found\n",
      "No hands found\n",
      "No hands found\n",
      "No hands found\n",
      "No hands found\n",
      "No hands found\n",
      "No hands found\n",
      "No hands found\n",
      "No hands found\n",
      "No hands found\n",
      "No hands found\n",
      "No hands found\n",
      "No hands found\n",
      "No hands found\n",
      "No hands found\n",
      "No hands found\n",
      "No hands found\n",
      "No hands found\n",
      "No hands found\n",
      "No hands found\n",
      "No hands found\n",
      "No hands found\n"
     ]
    }
   ],
   "source": [
    "\n",
    "capture = cv2.VideoCapture(0)\n",
    "\n",
    "if capture.isOpened():\n",
    "    hasFrame, frame = capture.read()\n",
    "else:\n",
    "    hasFrame = False\n",
    "final_hand_image = cv2.imread('./utils/B_test.jpg')\n",
    "letter =\"none\"\n",
    "while hasFrame:\n",
    "    frame = cv2.flip(frame, 1)\n",
    "    image = cv2.cvtColor(frame, cv2.COLOR_BGR2RGB)\n",
    "    points, bbox = detector(image)\n",
    "    if points is not None:\n",
    "        if hand_3d == \"True\":\n",
    "            for point in points:\n",
    "                x, y = point\n",
    "                cv2.circle(frame, (int(x), int(y)), THICKNESS * 2, POINT_COLOR, THICKNESS)\n",
    "            for connection in connections:\n",
    "                x0, y0 = points[connection[0]]\n",
    "                x1, y1 = points[connection[1]]\n",
    "                cv2.line(frame, (int(x0), int(y0)), (int(x1), int(y1)), CONNECTION_COLOR, THICKNESS)\n",
    "        else:\n",
    "            cv2.line(frame, (int(bbox[0][0]), int(bbox[0][1])), (int(bbox[1][0]), int(bbox[1][1])), CONNECTION_COLOR, THICKNESS)\n",
    "            cv2.line(frame, (int(bbox[1][0]), int(bbox[1][1])), (int(bbox[2][0]), int(bbox[2][1])), CONNECTION_COLOR, THICKNESS)\n",
    "            cv2.line(frame, (int(bbox[2][0]), int(bbox[2][1])), (int(bbox[3][0]), int(bbox[3][1])), CONNECTION_COLOR, THICKNESS)\n",
    "            cv2.line(frame, (int(bbox[3][0]), int(bbox[3][1])), (int(bbox[0][0]), int(bbox[0][1])), CONNECTION_COLOR, THICKNESS)\n",
    "    if bbox is not None:\n",
    "#         print(bbox)\n",
    "        \n",
    "        pts = np.array(np.int0(bbox))\n",
    "#         print(pts)\n",
    "        rect = cv2.boundingRect(pts)\n",
    "        x,y,w,h = rect\n",
    "        hand_image = image[y:y+h, x:x+w].copy()\n",
    "        \n",
    "        if(hand_image.shape[0]>0 and hand_image.shape[1]>0):\n",
    "#             pts = pts - pts.min(axis=0)\n",
    "#             mask = np.zeros(hand_image.shape[:2], np.uint8)\n",
    "#             cv2.drawContours(mask, [pts], -1, (255, 255, 255), -1, cv2.LINE_AA)\n",
    "#             dst = cv2.bitwise_and(hand_image, hand_image, mask=mask)\n",
    "#             bg = np.ones_like(hand_image, np.uint8)*255\n",
    "#             cv2.bitwise_not(bg,bg, mask=mask)\n",
    "#             dst2 = bg+ dst\n",
    "#             plt.imshow(dst2)\n",
    "#             plt.show()\n",
    "            final_hand_image =hand_image\n",
    "            letter =predict(hand_image,model,letter_labels)\n",
    "            \n",
    "\n",
    "    cv2.imshow('HAND_WNDW',final_hand_image)    \n",
    "    cv2.putText(frame, 'Letter:' +letter, (20, 50),\n",
    "                cv2.FONT_HERSHEY_SIMPLEX, 0.75, (255, 0, 0), 2)\n",
    "    cv2.imshow('FRAME_WNDW', frame)\n",
    "#     cv2.destroyAllWindows()\n",
    "    hasFrame, frame = capture.read()\n",
    "    \n",
    "    if cv2.waitKey(1) & 0xFF == ord('q'):\n",
    "        break\n",
    "\n",
    "capture.release()\n",
    "cv2.destroyAllWindows()\n"
   ]
  },
  {
   "cell_type": "code",
   "execution_count": 18,
   "metadata": {},
   "outputs": [],
   "source": [
    "capture.release()\n",
    "cv2.destroyAllWindows()\n"
   ]
  },
  {
   "cell_type": "code",
   "execution_count": null,
   "metadata": {},
   "outputs": [],
   "source": []
  },
  {
   "cell_type": "code",
   "execution_count": null,
   "metadata": {},
   "outputs": [],
   "source": []
  }
 ],
 "metadata": {
  "kernelspec": {
   "display_name": "Python 3",
   "language": "python",
   "name": "python3"
  },
  "language_info": {
   "codemirror_mode": {
    "name": "ipython",
    "version": 3
   },
   "file_extension": ".py",
   "mimetype": "text/x-python",
   "name": "python",
   "nbconvert_exporter": "python",
   "pygments_lexer": "ipython3",
   "version": "3.6.9"
  }
 },
 "nbformat": 4,
 "nbformat_minor": 2
}
